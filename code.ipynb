{
 "cells": [
  {
   "cell_type": "code",
   "execution_count": 8,
   "metadata": {},
   "outputs": [],
   "source": [
    "import tkinter as tk\n",
    "from tkinter import ttk, messagebox\n",
    "\n",
    "def precip(main_window):\n",
    "    pcp_frame = ttk.LabelFrame(main_window, text = 'Precipitation')\n",
    "    pcp_frame.grid(row = 0, columnspan = 2, rowspan = 2)\n",
    "    \n",
    "\n",
    "def open_task_window(task):\n",
    "    def on_about():\n",
    "        messagebox.showinfo(\"About\", \"This is an example of the 'About' task.\")\n",
    "    \n",
    "    task_window = tk.Toplevel(main_window)\n",
    "    task_window.title(task)\n",
    "    task_window.geometry(\"500x500+10+10\")\n",
    "    \n",
    "    if task == 'About':\n",
    "        about_button = ttk.Button(task_window, text=\"About\", command=on_about)\n",
    "        about_button.pack(anchor = 'nw', padx = 10, pady = 10)\n",
    "        \n",
    "    elif task == 'Precipitation':\n",
    "        precip(main_window)\n",
    "        \n",
    "\n",
    "\n",
    "def on_menu_selected(event):\n",
    "    selected_task = task_var.get()\n",
    "    if selected_task != \"Main\":\n",
    "        open_task_window(selected_task)\n",
    "\n",
    "main_window = tk.Tk()\n",
    "main_window.title(\"Main Window\")\n",
    "main_window.geometry(\"500x500+10+10\")\n",
    "\n",
    "task_list = [\"Select Parameter\",\n",
    "             \"Precipitation\",\n",
    "             \"Temperature\",\n",
    "             \"Wind\",\n",
    "             \"Solar Radiation\",\n",
    "             \"Help\",\n",
    "             \"About\"]\n",
    "\n",
    "task_var = tk.StringVar(main_window)\n",
    "task_var.set(\"Select Parameter\")\n",
    "task_combobox = ttk.Combobox(main_window, textvariable=task_var, values=task_list)\n",
    "task_combobox.grid(row = 0, column = 0, sticky='nw', padx=10, pady=10)\n",
    "\n",
    "task_combobox.bind(\"<<ComboboxSelected>>\", on_menu_selected)\n",
    "\n",
    "main_window.mainloop()\n"
   ]
  }
 ],
 "metadata": {
  "kernelspec": {
   "display_name": "geo",
   "language": "python",
   "name": "python3"
  },
  "language_info": {
   "codemirror_mode": {
    "name": "ipython",
    "version": 3
   },
   "file_extension": ".py",
   "mimetype": "text/x-python",
   "name": "python",
   "nbconvert_exporter": "python",
   "pygments_lexer": "ipython3",
   "version": "3.10.6"
  },
  "orig_nbformat": 4
 },
 "nbformat": 4,
 "nbformat_minor": 2
}
